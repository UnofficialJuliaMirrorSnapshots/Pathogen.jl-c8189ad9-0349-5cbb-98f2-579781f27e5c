{
 "cells": [
  {
   "cell_type": "markdown",
   "metadata": {},
   "source": [
    "## An SI model to a Tomato Spotted Wilt Virus experiment\n",
    "In this example we will perform SI model inference using data on the spread of Tomato Spotted Wilt Virus (TSWV) in a greenhouse from Hughes et al. (1997). In this experiment, 520 plants regularly spaced in a 10m x 26m greenhouse were examined for pressence of TSWV once every two weeks. Plants were not removed after showing signs of infection by TSWV. The experiment concluded after 14 weeks, which saw a total of 327 individual plants infected.\n",
    "\n",
    "### References\n",
    "* Hughes G, McRoberts N, Madden LV, Nelson SC (1997). “Validating Mathematical Models of Plant-Disease Progress in Space and Time.” Mathematical Medicine and Biology: A Journal of the Institute of Mathematics and Its Applications, 14(2), 85– 112."
   ]
  },
  {
   "cell_type": "markdown",
   "metadata": {},
   "source": [
    "## Initialization\n",
    "Load `Pathogen`, as well as:\n",
    "* `CSV` for extended CSV file I/O functionality,\n",
    "* `Distributed`, `Random`, and `DelimitedFiles` from Julia Base,\n",
    "* `DataFrames` for storing individual level information,\n",
    "* `Distributions` for specification of priors for Bayesian inference,\n",
    "* `Plots` for visualization (using whichever visualization backend your prefer), and\n"
   ]
  },
  {
   "cell_type": "code",
   "execution_count": null,
   "metadata": {
    "scrolled": true
   },
   "outputs": [],
   "source": [
    "using CSV, Distributed, DelimitedFiles, Distances, LinearAlgebra, Plots, Random\n",
    "addprocs(3)\n",
    "@everywhere using DataFrames, Distributions\n",
    "@everywhere using Pkg\n",
    "@everywhere Pkg.activate(joinpath(@__DIR__, \"../\"))\n",
    "@everywhere using Pathogen"
   ]
  },
  {
   "cell_type": "markdown",
   "metadata": {},
   "source": [
    "We'll set the seed for random number generation such that our results here are reproducible:"
   ]
  },
  {
   "cell_type": "code",
   "execution_count": null,
   "metadata": {},
   "outputs": [],
   "source": [
    "Random.seed!(5432)"
   ]
  },
  {
   "cell_type": "markdown",
   "metadata": {},
   "source": [
    "## TSWV Data\n",
    "We'll import the TSWV, provided as csv files. \n",
    "\n",
    "The first CSV file contains X, Y locations in metres for each individual plant in the study. \n",
    "\n",
    "The second CSV file contains records of the first day in which each individual was observed as being infected by TSWV. `NaN` indicates that no signs of infection were observed within the 14 week study period."
   ]
  },
  {
   "cell_type": "code",
   "execution_count": null,
   "metadata": {},
   "outputs": [],
   "source": [
    "# Use CSV.jl for DataFrames I/O\n",
    "#\n",
    "# We know the types of the columns, so we'll manually specify those. \n",
    "# * Individual IDs are `Int64`\n",
    "# * X,Y coordinates are `Float64`s\n",
    "risks = CSV.read(joinpath(@__DIR__, \"02_TSWV_locations.csv\"), types=[Int64; Float64; Float64])\n",
    "pop = Population(risks)\n",
    "\n",
    "# Will precalculate distances\n",
    "pop.distances = [euclidean([risks[:x][i]; risks[:y][i]], [risks[:x][j]; risks[:y][j]]) for i = 1:pop.individuals, j = 1:pop.individuals]\n",
    "\n",
    "# Use julia's included CSV interface for simple vector of observation times\n",
    "raw_observations = readdlm(joinpath(@__DIR__, \"02_TSWV_infection_observations.csv\"))[:]\n",
    "\n",
    "# Create an `EventObservations` object with `Pathogen.jl`\n",
    "obs = EventObservations{SI}(raw_observations)"
   ]
  },
  {
   "cell_type": "markdown",
   "metadata": {},
   "source": [
    "We will now formulate our `SI` individual level model. For our example, this model will be quite simple as we have a contained artifical environment which limits exogeneous transmissions, and we do not have individual level risk factors to consider beyond basic location data. We will use some common functions which have been prewritten in our examples folder.\n",
    "\n"
   ]
  },
  {
   "cell_type": "code",
   "execution_count": null,
   "metadata": {},
   "outputs": [],
   "source": [
    "@everywhere include(joinpath(@__DIR__, \"risk_functions.jl\"))\n",
    "\n",
    "rf = RiskFunctions{SI}(_zero, # sparks function - we will assume no exogenous transmissions and set this to zero\n",
    "                       _one, # susceptibility function - we do not have individual level risk factor information to explore here, so will set to a constant 1\n",
    "                       _powerlaw_w_intercept, # transmissability function - we will use a powerlaw (with intercept) kernel. This provides a spatial and non-spatial component to infection transmissions. This has 3 parameters.\n",
    "                       _one) # transmissibility function - we do not have individual level risk factor information to explore here, so will set to a constant 1"
   ]
  },
  {
   "cell_type": "code",
   "execution_count": null,
   "metadata": {},
   "outputs": [],
   "source": [
    "rpriors = RiskPriors{SI}(UnivariateDistribution[], # empty `UnivariateDistribution` vector for all parameter-less functions\n",
    "                         UnivariateDistribution[], \n",
    "                         [Gamma(2.0, 2.0); Gamma(2.0, 2.0); Gamma(0.5, 0.5)], # Relatively uninformative priors with appropriate support\n",
    "                         UnivariateDistribution[])"
   ]
  },
  {
   "cell_type": "markdown",
   "metadata": {},
   "source": [
    "We provide some bounds to event times in comparision to observation times. Actual onset of infectiousness in this study could have occurred any time between plant examinations. This means the observation delay could be up to 14.0 days."
   ]
  },
  {
   "cell_type": "code",
   "execution_count": null,
   "metadata": {},
   "outputs": [],
   "source": [
    "ee = EventExtents{SI}(14.0)"
   ]
  },
  {
   "cell_type": "code",
   "execution_count": null,
   "metadata": {},
   "outputs": [],
   "source": [
    "mcmc = MCMC(obs, ee, pop, rf, rpriors)\n",
    "start!(mcmc, 3, attempts = 1000)"
   ]
  },
  {
   "cell_type": "code",
   "execution_count": null,
   "metadata": {
    "scrolled": false
   },
   "outputs": [],
   "source": [
    "iterate!(mcmc, 5000, 0.25, event_batches = 20)"
   ]
  },
  {
   "cell_type": "code",
   "execution_count": null,
   "metadata": {},
   "outputs": [],
   "source": [
    "plot(mcmc.markov_chains[1].risk_parameters, y_scale=:log10)"
   ]
  },
  {
   "cell_type": "code",
   "execution_count": null,
   "metadata": {},
   "outputs": [],
   "source": [
    "# Visualization of transmission network convergence during MCMC\n",
    "epidemic_animation = @animate for i = 1:10:991\n",
    "    plot(mcmc.markov_chains[2].transmission_network[i], \n",
    "         mcmc.population, \n",
    "         mcmc.markov_chains[2].events[i], \n",
    "         100.0, \n",
    "         aspect_ratio = :equal)\n",
    "end\n",
    "mp4(epidemic_animation, joinpath(@__DIR__, \"02_TSWV_epidemic_plot_convergence.mp4\"), fps=2)"
   ]
  },
  {
   "cell_type": "code",
   "execution_count": null,
   "metadata": {},
   "outputs": [],
   "source": [
    "# Visualization of a single inferred epidemic sample from MCMC\n",
    "epidemic_animation = @animate for t in range(0.0, stop=100.0, length=100)\n",
    "    plot(mcmc.markov_chains[2].transmission_network[end], \n",
    "         mcmc.population, \n",
    "         mcmc.markov_chains[2].events[end], \n",
    "         t, \n",
    "         aspect_ratio = :equal)\n",
    "end\n",
    "mp4(epidemic_animation, joinpath(@__DIR__, \"02_TSWV_epidemic_plot_time.mp4\"), fps=2)"
   ]
  },
  {
   "cell_type": "code",
   "execution_count": null,
   "metadata": {},
   "outputs": [],
   "source": [
    "# Visualization of epidemic curve convergence\n",
    "epidemic_animation = @animate for i = 1:20:981\n",
    "    plot(mcmc.markov_chains[1].events[i], 0.0, 100.0)\n",
    "end\n",
    "mp4(epidemic_animation, joinpath(@__DIR__, \"02_TSWV_epidemic_curve_time.mp4\"), fps=5)"
   ]
  },
  {
   "cell_type": "code",
   "execution_count": null,
   "metadata": {},
   "outputs": [],
   "source": []
  }
 ],
 "metadata": {
  "kernelspec": {
   "display_name": "Julia 1.0.0",
   "language": "julia",
   "name": "julia-1.0"
  },
  "language_info": {
   "file_extension": ".jl",
   "mimetype": "application/julia",
   "name": "julia",
   "version": "1.0.1"
  }
 },
 "nbformat": 4,
 "nbformat_minor": 2
}
