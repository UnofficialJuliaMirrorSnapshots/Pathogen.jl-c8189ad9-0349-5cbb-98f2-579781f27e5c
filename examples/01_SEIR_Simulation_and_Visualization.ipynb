{
 "cells": [
  {
   "cell_type": "markdown",
   "metadata": {},
   "source": [
    "# Introduction to Pathogen.jl"
   ]
  },
  {
   "cell_type": "markdown",
   "metadata": {},
   "source": [
    "## Initialization"
   ]
  },
  {
   "cell_type": "markdown",
   "metadata": {},
   "source": [
    "We start by loading Pathogen.jl in julia 1.0"
   ]
  },
  {
   "cell_type": "code",
   "execution_count": 1,
   "metadata": {},
   "outputs": [
    {
     "name": "stderr",
     "output_type": "stream",
     "text": [
      "┌ Info: Recompiling stale cache file /Users/justin/.julia/compiled/v1.0/Pathogen/08VJn.ji for Pathogen [58f1fdb4-9bff-11e8-2091-99b816fb7d3c]\n",
      "└ @ Base loading.jl:1187\n"
     ]
    }
   ],
   "source": [
    "using CSV, Distributed, DelimitedFiles, Distances, LinearAlgebra, Statistics, Plots, Random, Distributions, DataFrames, Pathogen"
   ]
  },
  {
   "cell_type": "markdown",
   "metadata": {},
   "source": [
    "Additionally we'll use the core Packages:\n",
    "* `Random` for setting the random seed for replicability\n",
    "* `Distances` for various efficienct distance calculation methods\n",
    "* `DataFrames` for storing individual level information\n",
    "* `Distributions` for random generation of individual level information\n",
    "* `Plots` for visualization"
   ]
  },
  {
   "cell_type": "markdown",
   "metadata": {},
   "source": [
    "## Simulation\n",
    "We'll set the seed for random number generation such that our results here are reproducible:"
   ]
  },
  {
   "cell_type": "code",
   "execution_count": null,
   "metadata": {},
   "outputs": [],
   "source": [
    "Random.seed!(5432)"
   ]
  },
  {
   "cell_type": "markdown",
   "metadata": {},
   "source": [
    "We'll define a population consisting of *n* individuals, uniformaly distributed over a 10x10 unit area. For our population we'll assume to have information on a single risk factor, which we'll distribute following a Gamma(1,1) distribution.\n",
    "\n",
    "With Pathogen.jl, the `Population` type contains all population information, it consists of:\n",
    "* `risks` - an optional `DataFrame` with all individual level information (risk factors, location)\n",
    "* `distances` - an optional Array{T<:Any, 2} with precalculated distances\n",
    "* `individuals` - the number of individuals in the population"
   ]
  },
  {
   "cell_type": "code",
   "execution_count": null,
   "metadata": {},
   "outputs": [],
   "source": [
    "scenario = 4\n",
    "if scenario in [1; 2]\n",
    "    n = 25\n",
    "elseif scenario in [3; 4]\n",
    "    n = 100\n",
    "end\n",
    "    \n",
    "risks = DataFrame(x = rand(Uniform(0, 10), n),\n",
    "                  y = rand(Uniform(0, 10), n),\n",
    "                  riskfactor1 = rand(Gamma(), n))\n",
    "\n",
    "pop = Population(risks)\n",
    "\n",
    "# Will precalculate distances\n",
    "pop.distances = [euclidean([risks[:x][i]; risks[:y][i]], [risks[:x][j]; risks[:y][j]]) for i = 1:pop.individuals, j = 1:pop.individuals]\n"
   ]
  },
  {
   "cell_type": "markdown",
   "metadata": {},
   "source": [
    "Pathogen.jl supports SEIR, SEI, SIR, and SI individual level models. Within each of those model types, the user has full control over the functions describing individual specific transition rates between disease states (*i.e.* form of, and relevant risk factors to, susceptibility, transmissibility, transmissability, latency, removal, and sparks functions when applicable). For ease of use, some common forms of these functions are provided in `examples/risk_functions.jl` which can either be loaded and used directly, or serve as examples to help the user construct their own. For this example we will use some of these functions directly in an SEIR individual level model. "
   ]
  },
  {
   "cell_type": "code",
   "execution_count": null,
   "metadata": {},
   "outputs": [],
   "source": [
    "function _one(params::Vector{Float64}, pop::Population, i::Int64)\n",
    "  return 1.0\n",
    "end\n",
    "\n",
    "function _constant(params::Vector{Float64}, pop::Population, i::Int64)\n",
    "  return params[1]\n",
    "end\n",
    "\n",
    "function _powerlaw(params::Vector{Float64}, pop::Population, i::Int64, k::Int64)\n",
    "  α = params[1]\n",
    "  β = params[2]\n",
    "  d = pop.distances[k, i]\n",
    "  return α * (d^(-β))\n",
    "end\n",
    "\n",
    "rf = RiskFunctions{SEIR}(_constant, # sparks function\n",
    "                         _one, # susceptibility function\n",
    "                         _powerlaw, # transmissability function\n",
    "                         _one, # transmissibility function\n",
    "                         _constant, # latency function\n",
    "                         _constant) # removal function"
   ]
  },
  {
   "cell_type": "markdown",
   "metadata": {},
   "source": [
    "Each of these functions is parameterized by a `Vector{Float64}`..."
   ]
  },
  {
   "cell_type": "code",
   "execution_count": null,
   "metadata": {},
   "outputs": [],
   "source": [
    "if scenario in [1; 3]\n",
    "    rparams = RiskParameters{SEIR}([0.0001], # sparks function parameter(s)\n",
    "                                   Float64[], # susceptibility function parameter(s)\n",
    "                                   [0.5, 3.0], # infectivity function parameter(s)\n",
    "                                   Float64[], # transmissibility function parameter(s)\n",
    "                                   [0.1], # latency function parameter(s)\n",
    "                                   [0.05]) # removal function parameter(s)\n",
    "elseif scenario in [2; 4]\n",
    "    rparams = RiskParameters{SEIR}([0.0001], # sparks function parameter(s)\n",
    "                               Float64[], # susceptibility function parameter(s)\n",
    "                               [1.0, 5.0], # infectivity function parameter(s)\n",
    "                               Float64[], # transmissibility function parameter(s)\n",
    "                               [0.1], # latency function parameter(s)\n",
    "                               [0.05]) # removal function parameter(s)\n",
    "end"
   ]
  },
  {
   "cell_type": "markdown",
   "metadata": {},
   "source": [
    "We initialize an Epidemic `Simulation` object by supplying the population `DataFrame` with our individual level model risk functions and their associated parametrizations."
   ]
  },
  {
   "cell_type": "code",
   "execution_count": null,
   "metadata": {},
   "outputs": [],
   "source": [
    "starting_states = append!([State_I], fill(State_S, n-1)) # Set first individual as infectious, others as susceptible to start\n",
    "sim = Simulation(pop, starting_states, rf, rparams)"
   ]
  },
  {
   "cell_type": "markdown",
   "metadata": {},
   "source": [
    "This simulation can now be ran until either a specified stop condition is met (computation time, simulation time, or a maximum number of iterations), or until there are no further possible events."
   ]
  },
  {
   "cell_type": "code",
   "execution_count": null,
   "metadata": {},
   "outputs": [],
   "source": [
    "simulate!(sim, tmax=100.0)"
   ]
  },
  {
   "cell_type": "markdown",
   "metadata": {},
   "source": [
    "## Simulation Visualization\n",
    "Using our preferred plotting backend we can produce several informative plots for a simulated epidemic..."
   ]
  },
  {
   "cell_type": "code",
   "execution_count": null,
   "metadata": {},
   "outputs": [],
   "source": [
    "gr()"
   ]
  },
  {
   "cell_type": "markdown",
   "metadata": {},
   "source": [
    "a `plot()` method is provided for `Events` objects - such as those generated with an epidemic simulation. This will plot an epidemic curve."
   ]
  },
  {
   "cell_type": "code",
   "execution_count": null,
   "metadata": {
    "scrolled": false
   },
   "outputs": [],
   "source": [
    "plot(sim.events, 0.0, 100.0)\n",
    "png(joinpath(@__DIR__, \"plots/epidemic_curve_$scenario-$core.png\"))"
   ]
  },
  {
   "cell_type": "markdown",
   "metadata": {},
   "source": [
    "We can also visualize transmission networks through time - below is an animation showing the spread of an epidemic for the first 100 time units."
   ]
  },
  {
   "cell_type": "code",
   "execution_count": null,
   "metadata": {},
   "outputs": [],
   "source": [
    "epidemic_animation = @animate for t in range(0.0, stop=100.0, length=100) # From t = 0.0 to t= 100.0 with 100 increments\n",
    "    plot(sim.transmission_network, sim.population, sim.events, t)\n",
    "end\n",
    "mp4(epidemic_animation, joinpath(@__DIR__, \"plots/epidemic_animation_$scenario-$core.mp4\"), fps=10)"
   ]
  },
  {
   "cell_type": "markdown",
   "metadata": {},
   "source": [
    "## Inference"
   ]
  },
  {
   "cell_type": "code",
   "execution_count": null,
   "metadata": {},
   "outputs": [],
   "source": [
    "# Generate observations with Uniform(0, 2) observation delay for infection and removal\n",
    "obs = observe(sim, Uniform(0.0, 2.0), Uniform(0.0, 2.0))"
   ]
  },
  {
   "cell_type": "code",
   "execution_count": null,
   "metadata": {},
   "outputs": [],
   "source": [
    "# Optimistically assume we know the functional form of epidemic (i.e. use same risk functions used for simulation purposes)\n",
    "# Specify some priors for the risk parameters of our various risk functions\n",
    "# Set some extents for event data augmentation\n",
    "\n",
    "rpriors = RiskPriors{SEIR}([Uniform(0.0, 0.01)],\n",
    "                           UnivariateDistribution[],\n",
    "                           [Uniform(0.0, 2.0); Uniform(1.0, 8.0)],\n",
    "                           UnivariateDistribution[],\n",
    "                           [Uniform(0.0, 1.0)],\n",
    "                           [Uniform(0.0, 1.0)])\n",
    "\n",
    "ee = EventExtents{SEIR}(20.0, 5.0, 5.0)"
   ]
  },
  {
   "cell_type": "code",
   "execution_count": null,
   "metadata": {},
   "outputs": [],
   "source": [
    "# Initialize MCMC\n",
    "mcmc = MCMC(obs, ee, pop, rf, rpriors)\n",
    "start!(mcmc, 1, attempts=20000) # 1 chain, with 20k initialization attempts each"
   ]
  },
  {
   "cell_type": "code",
   "execution_count": null,
   "metadata": {},
   "outputs": [],
   "source": [
    "# Run MCMC\n",
    "start_time = time()\n",
    "iterate!(mcmc, 50000, 0.5, event_batches=20)\n",
    "mcmc_time = start_time - time()\n",
    "writecsv(joinpath(@__DIR__, \"data/mcmc_time_$scenario-$core.mp4.csv\"), convert(Float64, mcmc_time))"
   ]
  },
  {
   "cell_type": "code",
   "execution_count": null,
   "metadata": {},
   "outputs": [],
   "source": [
    "plot(mcmc.markov_chains[1].risk_parameters, y_scale=:log10)\n",
    "png(joinpath(@__DIR__, \"plots/parameter_trace_$scenario-$core.png\"))"
   ]
  },
  {
   "cell_type": "code",
   "execution_count": 2,
   "metadata": {},
   "outputs": [
    {
     "data": {
      "text/plain": [
       "mean (generic function with 1 method)"
      ]
     },
     "execution_count": 2,
     "metadata": {},
     "output_type": "execute_result"
    }
   ],
   "source": [
    "function mean(networkvector::Vector{TransmissionNetwork})\n",
    "  return mean([vcat(networkvector[i].external', networkvector[i].internal) for i in 1:length(networkvector)])\n",
    "end"
   ]
  },
  {
   "cell_type": "code",
   "execution_count": null,
   "metadata": {},
   "outputs": [],
   "source": [
    "    # Prepare to export results\n",
    "    network_mean = mean(mcmc.markov_chains[1].transmission_network[5001:25000])\n",
    "    network_MSE = sum((network_mean .- vcat(sim.transmission_network.external', sim.transmission_network.internal)).^2)/prod(size(network_mean))\n",
    "    tracedata = Array(mcmc.markov_chains[1].risk_parameters)\n",
    "    events_trace = convert(Array{Float64, 2}, mcmc.markov_chains[1].events)\n",
    "    events_mean = mean(mcmc.markov_chains[1].events)\n",
    "    events_actual = convert(Vector{Float64}, sim.events)\n",
    "\n",
    "    writecsv(joinpath(@__DIR__, \"data/network_mse_$scenario-$core.csv\"), network_MSE)\n",
    "    writecsv(joinpath(@__DIR__, \"data/parameter_trace_$scenario-$core.csv\"), tracedata)\n",
    "    writecsv(joinpath(@__DIR__, \"data/events_trace_$scenario-$core.csv\"), events_trace)\n",
    "    writecsv(joinpath(@__DIR__, \"data/events_mean_$scenario-$core.csv\"), events_actual)\n",
    "    writecsv(joinpath(@__DIR__, \"data/events_actual_$scenario-$core.csv\"), events_actual)\n"
   ]
  }
 ],
 "metadata": {
  "kernelspec": {
   "display_name": "Julia 1.0.0",
   "language": "julia",
   "name": "julia-1.0"
  },
  "language_info": {
   "file_extension": ".jl",
   "mimetype": "application/julia",
   "name": "julia",
   "version": "1.0.1"
  }
 },
 "nbformat": 4,
 "nbformat_minor": 2
}
